{
 "cells": [
  {
   "cell_type": "markdown",
   "metadata": {},
   "source": [
    "# Section 4"
   ]
  },
  {
   "cell_type": "code",
   "execution_count": 1,
   "metadata": {},
   "outputs": [],
   "source": [
    "import cvxpy as cp\n",
    "import numpy as np\n",
    "import matplotlib.pyplot as plt\n",
    "import pandas as pd\n",
    "from sklearn.model_selection import train_test_split\n",
    "\n",
    "class color:\n",
    "    PURPLE = '\\033[95m'\n",
    "    CYAN = '\\033[96m'\n",
    "    DARKCYAN = '\\033[36m'\n",
    "    BLUE = '\\033[94m'\n",
    "    GREEN = '\\033[92m'\n",
    "    YELLOW = '\\033[93m'\n",
    "    RED = '\\033[91m'\n",
    "    BOLD = '\\033[1m'\n",
    "    UNDERLINE = '\\033[4m'\n",
    "    END = '\\033[0m'\n",
    "    \n",
    "T = 2\n",
    "C = np.array([[2000, 1000, 3000, 5000, 5000, 10000]]).T\n",
    "p = np.array([[0.2, 0.5, 0.5, 0.6, 0.8, 0.9]]).T\n",
    "I = C.size\n",
    "A = 10000"
   ]
  },
  {
   "cell_type": "markdown",
   "metadata": {},
   "source": [
    "Implement the optimal hiding problem formulated in Question 5. (Use the `GLPK` solver)\n"
   ]
  },
  {
   "cell_type": "code",
   "execution_count": 2,
   "outputs": [],
   "source": [
    "x = cp.Variable((I, 1)) # minimization\n",
    "y = cp.Variable((I+1, 1)) # maximization dualized\n",
    "z = cp.Variable((1,1))"
   ],
   "metadata": {
    "collapsed": false,
    "pycharm": {
     "name": "#%%\n"
    }
   }
  },
  {
   "cell_type": "code",
   "execution_count": 6,
   "outputs": [],
   "source": [
    "constraints = [\n",
    "    cp.sum(x) == A,\n",
    "    x >= 0,\n",
    "    y >= 0,\n",
    "    z >= 0,\n",
    "]\n",
    "\n",
    "for i in range(I):\n",
    "    constraints.append(x[i,0] <= C[i,0])\n",
    "    constraints.append(y[0,0] + y[i+1,0] <= x[i,0]/p[i,0])\n",
    "    # constraints.append(-y[0,0] - y[i+1,0] <= x[i,0]/p[i,0])\n",
    "    z += x[i,0] * p[i,0] * y[i+1,0]\n",
    "\n",
    "z += T*y[0,0]"
   ],
   "metadata": {
    "collapsed": false,
    "pycharm": {
     "name": "#%%\n"
    }
   }
  },
  {
   "cell_type": "code",
   "execution_count": 7,
   "outputs": [
    {
     "ename": "DCPError",
     "evalue": "Problem does not follow DCP rules. Specifically:\nThe objective is not DCP. Its following subexpressions are not:\nvar0[0, 0] @ 0.2 @ var1[1, 0]\nvar0[1, 0] @ 0.5 @ var1[2, 0]\nvar0[2, 0] @ 0.5 @ var1[3, 0]\nvar0[3, 0] @ 0.6 @ var1[4, 0]\nvar0[4, 0] @ 0.8 @ var1[5, 0]\nvar0[5, 0] @ 0.9 @ var1[6, 0]\nvar0[0, 0] @ 0.2 @ var1[1, 0]\nvar0[1, 0] @ 0.5 @ var1[2, 0]\nvar0[2, 0] @ 0.5 @ var1[3, 0]\nvar0[3, 0] @ 0.6 @ var1[4, 0]\nvar0[4, 0] @ 0.8 @ var1[5, 0]\nvar0[5, 0] @ 0.9 @ var1[6, 0]",
     "output_type": "error",
     "traceback": [
      "\u001B[1;31m---------------------------------------------------------------------------\u001B[0m",
      "\u001B[1;31mDCPError\u001B[0m                                  Traceback (most recent call last)",
      "\u001B[1;32m<ipython-input-7-fa78a6ae397c>\u001B[0m in \u001B[0;36m<module>\u001B[1;34m\u001B[0m\n\u001B[0;32m      1\u001B[0m \u001B[0mobjective\u001B[0m \u001B[1;33m=\u001B[0m \u001B[0mcp\u001B[0m\u001B[1;33m.\u001B[0m\u001B[0mMinimize\u001B[0m\u001B[1;33m(\u001B[0m\u001B[0mz\u001B[0m\u001B[1;33m)\u001B[0m\u001B[1;33m\u001B[0m\u001B[1;33m\u001B[0m\u001B[0m\n\u001B[0;32m      2\u001B[0m \u001B[0mproblem\u001B[0m \u001B[1;33m=\u001B[0m \u001B[0mcp\u001B[0m\u001B[1;33m.\u001B[0m\u001B[0mProblem\u001B[0m\u001B[1;33m(\u001B[0m\u001B[0mobjective\u001B[0m\u001B[1;33m,\u001B[0m \u001B[0mconstraints\u001B[0m\u001B[1;33m)\u001B[0m\u001B[1;33m\u001B[0m\u001B[1;33m\u001B[0m\u001B[0m\n\u001B[1;32m----> 3\u001B[1;33m \u001B[0mproblem\u001B[0m\u001B[1;33m.\u001B[0m\u001B[0msolve\u001B[0m\u001B[1;33m(\u001B[0m\u001B[1;33m)\u001B[0m\u001B[1;33m\u001B[0m\u001B[1;33m\u001B[0m\u001B[0m\n\u001B[0m",
      "\u001B[1;32mc:\\users\\m-wue\\desktop\\ma 4\\optimal decision making\\exercises\\jupyter\\env\\lib\\site-packages\\cvxpy\\problems\\problem.py\u001B[0m in \u001B[0;36msolve\u001B[1;34m(self, *args, **kwargs)\u001B[0m\n\u001B[0;32m    457\u001B[0m         \u001B[1;32melse\u001B[0m\u001B[1;33m:\u001B[0m\u001B[1;33m\u001B[0m\u001B[1;33m\u001B[0m\u001B[0m\n\u001B[0;32m    458\u001B[0m             \u001B[0msolve_func\u001B[0m \u001B[1;33m=\u001B[0m \u001B[0mProblem\u001B[0m\u001B[1;33m.\u001B[0m\u001B[0m_solve\u001B[0m\u001B[1;33m\u001B[0m\u001B[1;33m\u001B[0m\u001B[0m\n\u001B[1;32m--> 459\u001B[1;33m         \u001B[1;32mreturn\u001B[0m \u001B[0msolve_func\u001B[0m\u001B[1;33m(\u001B[0m\u001B[0mself\u001B[0m\u001B[1;33m,\u001B[0m \u001B[1;33m*\u001B[0m\u001B[0margs\u001B[0m\u001B[1;33m,\u001B[0m \u001B[1;33m**\u001B[0m\u001B[0mkwargs\u001B[0m\u001B[1;33m)\u001B[0m\u001B[1;33m\u001B[0m\u001B[1;33m\u001B[0m\u001B[0m\n\u001B[0m\u001B[0;32m    460\u001B[0m \u001B[1;33m\u001B[0m\u001B[0m\n\u001B[0;32m    461\u001B[0m     \u001B[1;33m@\u001B[0m\u001B[0mclassmethod\u001B[0m\u001B[1;33m\u001B[0m\u001B[1;33m\u001B[0m\u001B[0m\n",
      "\u001B[1;32mc:\\users\\m-wue\\desktop\\ma 4\\optimal decision making\\exercises\\jupyter\\env\\lib\\site-packages\\cvxpy\\problems\\problem.py\u001B[0m in \u001B[0;36m_solve\u001B[1;34m(self, solver, warm_start, verbose, gp, qcp, requires_grad, enforce_dpp, **kwargs)\u001B[0m\n\u001B[0;32m    937\u001B[0m \u001B[1;33m\u001B[0m\u001B[0m\n\u001B[0;32m    938\u001B[0m         data, solving_chain, inverse_data = self.get_problem_data(\n\u001B[1;32m--> 939\u001B[1;33m             solver, gp, enforce_dpp, verbose)\n\u001B[0m\u001B[0;32m    940\u001B[0m \u001B[1;33m\u001B[0m\u001B[0m\n\u001B[0;32m    941\u001B[0m         \u001B[1;32mif\u001B[0m \u001B[0mverbose\u001B[0m\u001B[1;33m:\u001B[0m\u001B[1;33m\u001B[0m\u001B[1;33m\u001B[0m\u001B[0m\n",
      "\u001B[1;32mc:\\users\\m-wue\\desktop\\ma 4\\optimal decision making\\exercises\\jupyter\\env\\lib\\site-packages\\cvxpy\\problems\\problem.py\u001B[0m in \u001B[0;36mget_problem_data\u001B[1;34m(self, solver, gp, enforce_dpp, verbose)\u001B[0m\n\u001B[0;32m    564\u001B[0m             \u001B[0mself\u001B[0m\u001B[1;33m.\u001B[0m\u001B[0m_cache\u001B[0m\u001B[1;33m.\u001B[0m\u001B[0minvalidate\u001B[0m\u001B[1;33m(\u001B[0m\u001B[1;33m)\u001B[0m\u001B[1;33m\u001B[0m\u001B[1;33m\u001B[0m\u001B[0m\n\u001B[0;32m    565\u001B[0m             solving_chain = self._construct_chain(\n\u001B[1;32m--> 566\u001B[1;33m                 solver=solver, gp=gp, enforce_dpp=enforce_dpp)\n\u001B[0m\u001B[0;32m    567\u001B[0m             \u001B[0mself\u001B[0m\u001B[1;33m.\u001B[0m\u001B[0m_cache\u001B[0m\u001B[1;33m.\u001B[0m\u001B[0mkey\u001B[0m \u001B[1;33m=\u001B[0m \u001B[0mkey\u001B[0m\u001B[1;33m\u001B[0m\u001B[1;33m\u001B[0m\u001B[0m\n\u001B[0;32m    568\u001B[0m             \u001B[0mself\u001B[0m\u001B[1;33m.\u001B[0m\u001B[0m_cache\u001B[0m\u001B[1;33m.\u001B[0m\u001B[0msolving_chain\u001B[0m \u001B[1;33m=\u001B[0m \u001B[0msolving_chain\u001B[0m\u001B[1;33m\u001B[0m\u001B[1;33m\u001B[0m\u001B[0m\n",
      "\u001B[1;32mc:\\users\\m-wue\\desktop\\ma 4\\optimal decision making\\exercises\\jupyter\\env\\lib\\site-packages\\cvxpy\\problems\\problem.py\u001B[0m in \u001B[0;36m_construct_chain\u001B[1;34m(self, solver, gp, enforce_dpp)\u001B[0m\n\u001B[0;32m    790\u001B[0m         \u001B[0mself\u001B[0m\u001B[1;33m.\u001B[0m\u001B[0m_sort_candidate_solvers\u001B[0m\u001B[1;33m(\u001B[0m\u001B[0mcandidate_solvers\u001B[0m\u001B[1;33m)\u001B[0m\u001B[1;33m\u001B[0m\u001B[1;33m\u001B[0m\u001B[0m\n\u001B[0;32m    791\u001B[0m         return construct_solving_chain(self, candidate_solvers, gp=gp,\n\u001B[1;32m--> 792\u001B[1;33m                                        enforce_dpp=enforce_dpp)\n\u001B[0m\u001B[0;32m    793\u001B[0m \u001B[1;33m\u001B[0m\u001B[0m\n\u001B[0;32m    794\u001B[0m     \u001B[1;33m@\u001B[0m\u001B[0mstaticmethod\u001B[0m\u001B[1;33m\u001B[0m\u001B[1;33m\u001B[0m\u001B[0m\n",
      "\u001B[1;32mc:\\users\\m-wue\\desktop\\ma 4\\optimal decision making\\exercises\\jupyter\\env\\lib\\site-packages\\cvxpy\\reductions\\solvers\\solving_chain.py\u001B[0m in \u001B[0;36mconstruct_solving_chain\u001B[1;34m(problem, candidates, gp, enforce_dpp)\u001B[0m\n\u001B[0;32m    153\u001B[0m     \u001B[1;32mif\u001B[0m \u001B[0mlen\u001B[0m\u001B[1;33m(\u001B[0m\u001B[0mproblem\u001B[0m\u001B[1;33m.\u001B[0m\u001B[0mvariables\u001B[0m\u001B[1;33m(\u001B[0m\u001B[1;33m)\u001B[0m\u001B[1;33m)\u001B[0m \u001B[1;33m==\u001B[0m \u001B[1;36m0\u001B[0m\u001B[1;33m:\u001B[0m\u001B[1;33m\u001B[0m\u001B[1;33m\u001B[0m\u001B[0m\n\u001B[0;32m    154\u001B[0m         \u001B[1;32mreturn\u001B[0m \u001B[0mSolvingChain\u001B[0m\u001B[1;33m(\u001B[0m\u001B[0mreductions\u001B[0m\u001B[1;33m=\u001B[0m\u001B[1;33m[\u001B[0m\u001B[0mConstantSolver\u001B[0m\u001B[1;33m(\u001B[0m\u001B[1;33m)\u001B[0m\u001B[1;33m]\u001B[0m\u001B[1;33m)\u001B[0m\u001B[1;33m\u001B[0m\u001B[1;33m\u001B[0m\u001B[0m\n\u001B[1;32m--> 155\u001B[1;33m     \u001B[0mreductions\u001B[0m \u001B[1;33m=\u001B[0m \u001B[0m_reductions_for_problem_class\u001B[0m\u001B[1;33m(\u001B[0m\u001B[0mproblem\u001B[0m\u001B[1;33m,\u001B[0m \u001B[0mcandidates\u001B[0m\u001B[1;33m,\u001B[0m \u001B[0mgp\u001B[0m\u001B[1;33m)\u001B[0m\u001B[1;33m\u001B[0m\u001B[1;33m\u001B[0m\u001B[0m\n\u001B[0m\u001B[0;32m    156\u001B[0m \u001B[1;33m\u001B[0m\u001B[0m\n\u001B[0;32m    157\u001B[0m     \u001B[0mdpp_context\u001B[0m \u001B[1;33m=\u001B[0m \u001B[1;34m'dcp'\u001B[0m \u001B[1;32mif\u001B[0m \u001B[1;32mnot\u001B[0m \u001B[0mgp\u001B[0m \u001B[1;32melse\u001B[0m \u001B[1;34m'dgp'\u001B[0m\u001B[1;33m\u001B[0m\u001B[1;33m\u001B[0m\u001B[0m\n",
      "\u001B[1;32mc:\\users\\m-wue\\desktop\\ma 4\\optimal decision making\\exercises\\jupyter\\env\\lib\\site-packages\\cvxpy\\reductions\\solvers\\solving_chain.py\u001B[0m in \u001B[0;36m_reductions_for_problem_class\u001B[1;34m(problem, candidates, gp)\u001B[0m\n\u001B[0;32m     90\u001B[0m                        \"Consider calling solve() with `qcp=True`.\")\n\u001B[0;32m     91\u001B[0m         raise DCPError(\n\u001B[1;32m---> 92\u001B[1;33m             \"Problem does not follow DCP rules. Specifically:\\n\" + append)\n\u001B[0m\u001B[0;32m     93\u001B[0m     \u001B[1;32melif\u001B[0m \u001B[0mgp\u001B[0m \u001B[1;32mand\u001B[0m \u001B[1;32mnot\u001B[0m \u001B[0mproblem\u001B[0m\u001B[1;33m.\u001B[0m\u001B[0mis_dgp\u001B[0m\u001B[1;33m(\u001B[0m\u001B[1;33m)\u001B[0m\u001B[1;33m:\u001B[0m\u001B[1;33m\u001B[0m\u001B[1;33m\u001B[0m\u001B[0m\n\u001B[0;32m     94\u001B[0m         \u001B[0mappend\u001B[0m \u001B[1;33m=\u001B[0m \u001B[0mbuild_non_disciplined_error_msg\u001B[0m\u001B[1;33m(\u001B[0m\u001B[0mproblem\u001B[0m\u001B[1;33m,\u001B[0m \u001B[1;34m'DGP'\u001B[0m\u001B[1;33m)\u001B[0m\u001B[1;33m\u001B[0m\u001B[1;33m\u001B[0m\u001B[0m\n",
      "\u001B[1;31mDCPError\u001B[0m: Problem does not follow DCP rules. Specifically:\nThe objective is not DCP. Its following subexpressions are not:\nvar0[0, 0] @ 0.2 @ var1[1, 0]\nvar0[1, 0] @ 0.5 @ var1[2, 0]\nvar0[2, 0] @ 0.5 @ var1[3, 0]\nvar0[3, 0] @ 0.6 @ var1[4, 0]\nvar0[4, 0] @ 0.8 @ var1[5, 0]\nvar0[5, 0] @ 0.9 @ var1[6, 0]\nvar0[0, 0] @ 0.2 @ var1[1, 0]\nvar0[1, 0] @ 0.5 @ var1[2, 0]\nvar0[2, 0] @ 0.5 @ var1[3, 0]\nvar0[3, 0] @ 0.6 @ var1[4, 0]\nvar0[4, 0] @ 0.8 @ var1[5, 0]\nvar0[5, 0] @ 0.9 @ var1[6, 0]"
     ]
    }
   ],
   "source": [
    "objective = cp.Minimize(z)\n",
    "problem = cp.Problem(objective, constraints)\n",
    "problem.solve()"
   ],
   "metadata": {
    "collapsed": false,
    "pycharm": {
     "name": "#%%\n"
    }
   }
  }
 ],
 "metadata": {
  "kernelspec": {
   "name": "python3",
   "language": "python",
   "display_name": "Python 3"
  },
  "language_info": {
   "codemirror_mode": {
    "name": "ipython",
    "version": 3
   },
   "file_extension": ".py",
   "mimetype": "text/x-python",
   "name": "python",
   "nbconvert_exporter": "python",
   "pygments_lexer": "ipython3",
   "version": "3.6.9"
  }
 },
 "nbformat": 4,
 "nbformat_minor": 5
}