{
 "cells": [
  {
   "cell_type": "markdown",
   "metadata": {},
   "source": [
    "# Section 4"
   ]
  },
  {
   "cell_type": "code",
   "execution_count": 41,
   "metadata": {},
   "outputs": [],
   "source": [
    "import cvxpy as cp\n",
    "import numpy as np\n",
    "import matplotlib.pyplot as plt\n",
    "import pandas as pd\n",
    "from sklearn.model_selection import train_test_split\n",
    "\n",
    "class color:\n",
    "    PURPLE = '\\033[95m'\n",
    "    CYAN = '\\033[96m'\n",
    "    DARKCYAN = '\\033[36m'\n",
    "    BLUE = '\\033[94m'\n",
    "    GREEN = '\\033[92m'\n",
    "    YELLOW = '\\033[93m'\n",
    "    RED = '\\033[91m'\n",
    "    BOLD = '\\033[1m'\n",
    "    UNDERLINE = '\\033[4m'\n",
    "    END = '\\033[0m'\n",
    "    \n",
    "T = 2\n",
    "C = np.array([[2000, 1000, 3000, 5000, 5000, 10000]]).T\n",
    "p = np.array([[0.2, 0.5, 0.5, 0.6, 0.8, 0.9]]).T\n",
    "I = C.size\n",
    "A = 10000"
   ]
  },
  {
   "cell_type": "markdown",
   "metadata": {},
   "source": [
    "Implement the optimal hiding problem formulated in Question 5. (Use the `GLPK` solver)\n"
   ]
  },
  {
   "cell_type": "code",
   "execution_count": 42,
   "outputs": [],
   "source": [
    "x = cp.Variable((I, 1)) # minimization\n",
    "y = cp.Variable((I+1, 1)) # maximization dualized\n",
    "z = cp.Variable((1,1))"
   ],
   "metadata": {
    "collapsed": false,
    "pycharm": {
     "name": "#%%\n"
    }
   }
  },
  {
   "cell_type": "code",
   "execution_count": 43,
   "outputs": [],
   "source": [
    "constraints = [\n",
    "    cp.sum(x) == A,\n",
    "    x >= 0,\n",
    "    y >= 0,\n",
    "    z >= 0\n",
    "]\n",
    "\n",
    "for i in range(I):\n",
    "    constraints.append(x[i,0] <= C[i,0])\n",
    "    constraints.append(y[0,0] + y[i+1,0] >= x[i,0]*p[i,0])\n",
    "    z += y[i+1,0]/p[i,0]\n",
    "\n",
    "z += T*y[0,0]"
   ],
   "metadata": {
    "collapsed": false,
    "pycharm": {
     "name": "#%%\n"
    }
   }
  },
  {
   "cell_type": "code",
   "execution_count": 45,
   "outputs": [
    {
     "data": {
      "text/plain": "2322.580645513638"
     },
     "execution_count": 45,
     "metadata": {},
     "output_type": "execute_result"
    }
   ],
   "source": [
    "objective = cp.Minimize(z)\n",
    "problem = cp.Problem(objective, constraints)\n",
    "problem.solve(solver='GLPK')"
   ],
   "metadata": {
    "collapsed": false,
    "pycharm": {
     "name": "#%%\n"
    }
   }
  },
  {
   "cell_type": "code",
   "execution_count": 36,
   "outputs": [
    {
     "data": {
      "text/plain": "array([[1999.99999996],\n       [ 999.99999998],\n       [1657.89473686],\n       [2210.52631583],\n       [1657.89473685],\n       [1473.68421051]])"
     },
     "execution_count": 36,
     "metadata": {},
     "output_type": "execute_result"
    }
   ],
   "source": [
    "x.value"
   ],
   "metadata": {
    "collapsed": false,
    "pycharm": {
     "name": "#%%\n"
    }
   }
  },
  {
   "cell_type": "code",
   "execution_count": 31,
   "outputs": [
    {
     "data": {
      "text/plain": "array([[ 1.16129032e+03],\n       [-2.30537157e-08],\n       [-4.36674302e-10],\n       [ 2.31194217e-08],\n       [ 4.51050802e-08],\n       [ 5.73440126e-08],\n       [ 1.90105024e-08]])"
     },
     "execution_count": 31,
     "metadata": {},
     "output_type": "execute_result"
    }
   ],
   "source": [
    "y.value"
   ],
   "metadata": {
    "collapsed": false,
    "pycharm": {
     "name": "#%%\n"
    }
   }
  }
 ],
 "metadata": {
  "kernelspec": {
   "name": "python3",
   "language": "python",
   "display_name": "Python 3"
  },
  "language_info": {
   "codemirror_mode": {
    "name": "ipython",
    "version": 3
   },
   "file_extension": ".py",
   "mimetype": "text/x-python",
   "name": "python",
   "nbconvert_exporter": "python",
   "pygments_lexer": "ipython3",
   "version": "3.6.9"
  }
 },
 "nbformat": 4,
 "nbformat_minor": 5
}